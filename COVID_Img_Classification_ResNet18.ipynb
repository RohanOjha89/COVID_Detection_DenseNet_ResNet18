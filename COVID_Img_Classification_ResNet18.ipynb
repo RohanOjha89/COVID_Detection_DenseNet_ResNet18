{
 "cells": [
  {
   "cell_type": "code",
   "execution_count": 10,
   "id": "7f43e0a8-3b3f-4538-a820-57bf4c76d4f2",
   "metadata": {},
   "outputs": [],
   "source": [
    "import torch\n",
    "import torch.nn as nn\n",
    "import torchvision.transforms as transforms\n",
    "from torchvision import datasets, models\n",
    "from torch.utils.data import DataLoader\n",
    "import matplotlib.pyplot as plt\n",
    "\n",
    "import warnings\n",
    "warnings.filterwarnings(\"ignore\")"
   ]
  },
  {
   "cell_type": "markdown",
   "id": "785fb19c-c91a-42ab-9eaa-f20c44296f18",
   "metadata": {},
   "source": [
    "### Prepare Dataset"
   ]
  },
  {
   "cell_type": "code",
   "execution_count": 6,
   "id": "ccfc8f9b-d767-4b1a-9dee-25d1ea169a62",
   "metadata": {},
   "outputs": [
    {
     "name": "stdout",
     "output_type": "stream",
     "text": [
      "Classes: ['Covid', 'Normal']\n"
     ]
    }
   ],
   "source": [
    "# Define transformations for training and validation\n",
    "transform = transforms.Compose([\n",
    "    transforms.Resize((224, 224)),  # Resize to match ResNet input\n",
    "    transforms.ToTensor(),\n",
    "    transforms.Normalize(mean=[0.485, 0.456, 0.406], std=[0.229, 0.224, 0.225])  # Normalize as per ResNet's pre-trained model\n",
    "])\n",
    "\n",
    "# Load datasets\n",
    "train_dataset = datasets.ImageFolder(root='/Users/rohanojha/Documents/01_Sem_1_DS 5220 Code/SML_Project/Code_Test/Train', transform=transform)\n",
    "val_dataset = datasets.ImageFolder(root='/Users/rohanojha/Documents/01_Sem_1_DS 5220 Code/SML_Project/Code_Test/Val', transform=transform)\n",
    "\n",
    "# Create data loaders\n",
    "train_loader = DataLoader(train_dataset, batch_size=32, shuffle=True)\n",
    "val_loader = DataLoader(val_dataset, batch_size=32, shuffle=False)\n",
    "\n",
    "# Get class names\n",
    "class_names = train_dataset.classes\n",
    "print(f\"Classes: {class_names}\")"
   ]
  },
  {
   "cell_type": "markdown",
   "id": "68007844-9e6b-43b3-b977-f9c093e3560f",
   "metadata": {},
   "source": [
    "### Load ResNet"
   ]
  },
  {
   "cell_type": "code",
   "execution_count": 12,
   "id": "c764b41d-ea1b-443c-b82a-4eed220d435e",
   "metadata": {},
   "outputs": [],
   "source": [
    "# Load pre-trained ResNet\n",
    "model = models.resnet18(pretrained=True)\n",
    "\n",
    "# Modify the fully connected layer\n",
    "num_features = model.fc.in_features  # Number of input features to the last layer\n",
    "model.fc = nn.Linear(num_features, len(class_names))  # Match the number of output classes\n",
    "\n",
    "# Move the model to GPU if available\n",
    "device = torch.device(\"cuda\" if torch.cuda.is_available() else \"cpu\")\n",
    "model = model.to(device)"
   ]
  },
  {
   "cell_type": "markdown",
   "id": "24813e19-4870-48c2-b456-598ee5fd5a3d",
   "metadata": {},
   "source": [
    "### Loss and Optimizer"
   ]
  },
  {
   "cell_type": "code",
   "execution_count": 17,
   "id": "08526206-a7a7-4961-b452-acca02c0efa3",
   "metadata": {},
   "outputs": [],
   "source": [
    "criterion = nn.CrossEntropyLoss()  # Loss function\n",
    "optimizer = torch.optim.Adam(model.parameters(), lr=0.001)  # Optimizer"
   ]
  },
  {
   "cell_type": "markdown",
   "id": "e7aed0e7-5198-46fb-b0da-cdf65a69666d",
   "metadata": {},
   "source": [
    "### Train Model"
   ]
  },
  {
   "cell_type": "code",
   "execution_count": 25,
   "id": "3d1557a8-6054-40c2-b7e8-e2fd028971b5",
   "metadata": {},
   "outputs": [
    {
     "name": "stdout",
     "output_type": "stream",
     "text": [
      "Epoch 1/10, Loss: 0.1823594308426154\n",
      "Epoch 2/10, Loss: 0.0797183578713508\n",
      "Epoch 3/10, Loss: 0.04413909970678325\n",
      "Epoch 4/10, Loss: 0.025993637282979386\n",
      "Epoch 5/10, Loss: 0.025425616746110005\n",
      "Epoch 6/10, Loss: 0.011492714120761556\n",
      "Epoch 7/10, Loss: 0.004247002885049683\n",
      "Epoch 8/10, Loss: 0.0008526597959707001\n",
      "Epoch 9/10, Loss: 0.0004709275961996072\n",
      "Epoch 10/10, Loss: 0.00016206290672863392\n"
     ]
    }
   ],
   "source": [
    "# Training loop\n",
    "num_epochs = 10\n",
    "for epoch in range(num_epochs):\n",
    "    model.train()  # Set the model to training mode\n",
    "    running_loss = 0.0\n",
    "    for inputs, labels in train_loader:\n",
    "        inputs, labels = inputs.to(device), labels.to(device)\n",
    "        \n",
    "        optimizer.zero_grad()  # Zero the gradients\n",
    "        outputs = model(inputs)  # Forward pass\n",
    "        loss = criterion(outputs, labels)  # Compute loss\n",
    "        loss.backward()  # Backward pass\n",
    "        optimizer.step()  # Update weights\n",
    "        \n",
    "        running_loss += loss.item()\n",
    "    \n",
    "    print(f\"Epoch {epoch + 1}/{num_epochs}, Loss: {running_loss / len(train_loader)}\")"
   ]
  },
  {
   "cell_type": "markdown",
   "id": "6b6b3771-f167-4a67-b511-1c4f65be00db",
   "metadata": {},
   "source": [
    "### Evaluate Model"
   ]
  },
  {
   "cell_type": "code",
   "execution_count": 27,
   "id": "49f0e444-e7dd-4e93-a4ce-39e2427555dd",
   "metadata": {},
   "outputs": [
    {
     "name": "stdout",
     "output_type": "stream",
     "text": [
      "Validation Accuracy: 62.07%\n"
     ]
    }
   ],
   "source": [
    "model.eval()  # Set the model to evaluation mode\n",
    "correct = 0\n",
    "total = 0\n",
    "with torch.no_grad():  # Disable gradient computation\n",
    "    for inputs, labels in val_loader:\n",
    "        inputs, labels = inputs.to(device), labels.to(device)\n",
    "        outputs = model(inputs)\n",
    "        _, predicted = torch.max(outputs, 1)  # Get predicted class\n",
    "        total += labels.size(0)\n",
    "        correct += (predicted == labels).sum().item()\n",
    "\n",
    "accuracy = 100 * correct / total\n",
    "print(f\"Validation Accuracy: {accuracy:.2f}%\")"
   ]
  },
  {
   "cell_type": "markdown",
   "id": "0f386b81-b72d-4efc-b570-a4d2db22e5ba",
   "metadata": {},
   "source": [
    "### Save the Model"
   ]
  },
  {
   "cell_type": "code",
   "execution_count": 29,
   "id": "a8f4b574-552d-430e-88aa-416b7496aa41",
   "metadata": {},
   "outputs": [
    {
     "name": "stdout",
     "output_type": "stream",
     "text": [
      "Model saved as resnet_model.pth\n"
     ]
    }
   ],
   "source": [
    "torch.save(model.state_dict(), \"resnet_model.pth\")\n",
    "print(\"Model saved as resnet_model.pth\")"
   ]
  },
  {
   "cell_type": "markdown",
   "id": "ed065f3f-6de0-4a86-8da2-fcecaa837228",
   "metadata": {},
   "source": [
    "### Load and Predict"
   ]
  },
  {
   "cell_type": "code",
   "execution_count": 49,
   "id": "0a13cd49-4d18-4c2d-b42c-ad5c69ad4a2e",
   "metadata": {},
   "outputs": [
    {
     "name": "stdout",
     "output_type": "stream",
     "text": [
      "Predicted Class: Normal\n"
     ]
    }
   ],
   "source": [
    "from PIL import Image\n",
    "\n",
    "# Load the saved model\n",
    "model.load_state_dict(torch.load(\"resnet_model.pth\"))\n",
    "model.eval()\n",
    "\n",
    "def img_passed(img_p):\n",
    "    # Predict on a single image\n",
    "    img_path = \"/Users/rohanojha/Documents/01_Sem_1_DS 5220 Code/SML_Project/Code_Test/single_prediction/\" + img_p\n",
    "    # img = Image.open(img_path)\n",
    "    img = Image.open(img_path).convert('RGB')\n",
    "    img = transform(img).unsqueeze(0)  # Apply transformations and add batch dimension\n",
    "    \n",
    "    # Move to device and predict\n",
    "    img = img.to(device)\n",
    "    output = model(img)\n",
    "    _, predicted_class = torch.max(output, 1)\n",
    "    print(f\"Predicted Class: {class_names[predicted_class.item()]}\")\n",
    "\n",
    "img_passed(\"normal.png\")"
   ]
  },
  {
   "cell_type": "code",
   "execution_count": null,
   "id": "07398112-c46d-4da9-b35d-572ebdfcadce",
   "metadata": {},
   "outputs": [],
   "source": []
  },
  {
   "cell_type": "code",
   "execution_count": null,
   "id": "19a6e821-bd3d-4e1b-8e74-c30d03054841",
   "metadata": {},
   "outputs": [],
   "source": []
  },
  {
   "cell_type": "code",
   "execution_count": null,
   "id": "b0be57d2-fc5a-4fe4-b395-83c2050375b2",
   "metadata": {},
   "outputs": [],
   "source": []
  },
  {
   "cell_type": "code",
   "execution_count": null,
   "id": "bd7f75a8-0e38-474b-ac06-4369a3609972",
   "metadata": {},
   "outputs": [],
   "source": []
  },
  {
   "cell_type": "code",
   "execution_count": null,
   "id": "ccb0dfe9-3b40-4076-a72f-d9c31c219628",
   "metadata": {},
   "outputs": [],
   "source": []
  },
  {
   "cell_type": "code",
   "execution_count": null,
   "id": "d60df111-948b-410c-a12b-f86a8e21de4a",
   "metadata": {},
   "outputs": [],
   "source": []
  },
  {
   "cell_type": "code",
   "execution_count": null,
   "id": "3eb5cc31-9ef6-431b-95ca-27c51ed34081",
   "metadata": {},
   "outputs": [],
   "source": []
  }
 ],
 "metadata": {
  "kernelspec": {
   "display_name": "Python 3 (ipykernel)",
   "language": "python",
   "name": "python3"
  },
  "language_info": {
   "codemirror_mode": {
    "name": "ipython",
    "version": 3
   },
   "file_extension": ".py",
   "mimetype": "text/x-python",
   "name": "python",
   "nbconvert_exporter": "python",
   "pygments_lexer": "ipython3",
   "version": "3.12.4"
  }
 },
 "nbformat": 4,
 "nbformat_minor": 5
}
